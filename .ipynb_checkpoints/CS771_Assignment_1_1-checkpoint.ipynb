{
 "cells": [
  {
   "cell_type": "code",
   "execution_count": 147,
   "metadata": {
    "id": "_OpqLX1wFy3X"
   },
   "outputs": [
    {
     "name": "stdout",
     "output_type": "stream",
     "text": [
      "The autoreload extension is already loaded. To reload it, use:\n",
      "  %reload_ext autoreload\n"
     ]
    }
   ],
   "source": [
    "%load_ext autoreload\n",
    "%autoreload 2"
   ]
  },
  {
   "cell_type": "code",
   "execution_count": null,
   "metadata": {
    "colab": {
     "base_uri": "https://localhost:8080/",
     "height": 56
    },
    "id": "ymPXiheYGPZB",
    "outputId": "4586b192-c36f-4e08-b0e8-ca445e4e0715"
   },
   "outputs": [
    {
     "data": {
      "text/html": [
       "\n",
       "     <input type=\"file\" id=\"files-53c3edb5-173a-41fa-9244-87fab0f9bafb\" name=\"files[]\" multiple disabled\n",
       "        style=\"border:none\" />\n",
       "     <output id=\"result-53c3edb5-173a-41fa-9244-87fab0f9bafb\">\n",
       "      Upload widget is only available when the cell has been executed in the\n",
       "      current browser session. Please rerun this cell to enable.\n",
       "      </output>\n",
       "      <script>// Copyright 2017 Google LLC\n",
       "//\n",
       "// Licensed under the Apache License, Version 2.0 (the \"License\");\n",
       "// you may not use this file except in compliance with the License.\n",
       "// You may obtain a copy of the License at\n",
       "//\n",
       "//      http://www.apache.org/licenses/LICENSE-2.0\n",
       "//\n",
       "// Unless required by applicable law or agreed to in writing, software\n",
       "// distributed under the License is distributed on an \"AS IS\" BASIS,\n",
       "// WITHOUT WARRANTIES OR CONDITIONS OF ANY KIND, either express or implied.\n",
       "// See the License for the specific language governing permissions and\n",
       "// limitations under the License.\n",
       "\n",
       "/**\n",
       " * @fileoverview Helpers for google.colab Python module.\n",
       " */\n",
       "(function(scope) {\n",
       "function span(text, styleAttributes = {}) {\n",
       "  const element = document.createElement('span');\n",
       "  element.textContent = text;\n",
       "  for (const key of Object.keys(styleAttributes)) {\n",
       "    element.style[key] = styleAttributes[key];\n",
       "  }\n",
       "  return element;\n",
       "}\n",
       "\n",
       "// Max number of bytes which will be uploaded at a time.\n",
       "const MAX_PAYLOAD_SIZE = 100 * 1024;\n",
       "\n",
       "function _uploadFiles(inputId, outputId) {\n",
       "  const steps = uploadFilesStep(inputId, outputId);\n",
       "  const outputElement = document.getElementById(outputId);\n",
       "  // Cache steps on the outputElement to make it available for the next call\n",
       "  // to uploadFilesContinue from Python.\n",
       "  outputElement.steps = steps;\n",
       "\n",
       "  return _uploadFilesContinue(outputId);\n",
       "}\n",
       "\n",
       "// This is roughly an async generator (not supported in the browser yet),\n",
       "// where there are multiple asynchronous steps and the Python side is going\n",
       "// to poll for completion of each step.\n",
       "// This uses a Promise to block the python side on completion of each step,\n",
       "// then passes the result of the previous step as the input to the next step.\n",
       "function _uploadFilesContinue(outputId) {\n",
       "  const outputElement = document.getElementById(outputId);\n",
       "  const steps = outputElement.steps;\n",
       "\n",
       "  const next = steps.next(outputElement.lastPromiseValue);\n",
       "  return Promise.resolve(next.value.promise).then((value) => {\n",
       "    // Cache the last promise value to make it available to the next\n",
       "    // step of the generator.\n",
       "    outputElement.lastPromiseValue = value;\n",
       "    return next.value.response;\n",
       "  });\n",
       "}\n",
       "\n",
       "/**\n",
       " * Generator function which is called between each async step of the upload\n",
       " * process.\n",
       " * @param {string} inputId Element ID of the input file picker element.\n",
       " * @param {string} outputId Element ID of the output display.\n",
       " * @return {!Iterable<!Object>} Iterable of next steps.\n",
       " */\n",
       "function* uploadFilesStep(inputId, outputId) {\n",
       "  const inputElement = document.getElementById(inputId);\n",
       "  inputElement.disabled = false;\n",
       "\n",
       "  const outputElement = document.getElementById(outputId);\n",
       "  outputElement.innerHTML = '';\n",
       "\n",
       "  const pickedPromise = new Promise((resolve) => {\n",
       "    inputElement.addEventListener('change', (e) => {\n",
       "      resolve(e.target.files);\n",
       "    });\n",
       "  });\n",
       "\n",
       "  const cancel = document.createElement('button');\n",
       "  inputElement.parentElement.appendChild(cancel);\n",
       "  cancel.textContent = 'Cancel upload';\n",
       "  const cancelPromise = new Promise((resolve) => {\n",
       "    cancel.onclick = () => {\n",
       "      resolve(null);\n",
       "    };\n",
       "  });\n",
       "\n",
       "  // Wait for the user to pick the files.\n",
       "  const files = yield {\n",
       "    promise: Promise.race([pickedPromise, cancelPromise]),\n",
       "    response: {\n",
       "      action: 'starting',\n",
       "    }\n",
       "  };\n",
       "\n",
       "  cancel.remove();\n",
       "\n",
       "  // Disable the input element since further picks are not allowed.\n",
       "  inputElement.disabled = true;\n",
       "\n",
       "  if (!files) {\n",
       "    return {\n",
       "      response: {\n",
       "        action: 'complete',\n",
       "      }\n",
       "    };\n",
       "  }\n",
       "\n",
       "  for (const file of files) {\n",
       "    const li = document.createElement('li');\n",
       "    li.append(span(file.name, {fontWeight: 'bold'}));\n",
       "    li.append(span(\n",
       "        `(${file.type || 'n/a'}) - ${file.size} bytes, ` +\n",
       "        `last modified: ${\n",
       "            file.lastModifiedDate ? file.lastModifiedDate.toLocaleDateString() :\n",
       "                                    'n/a'} - `));\n",
       "    const percent = span('0% done');\n",
       "    li.appendChild(percent);\n",
       "\n",
       "    outputElement.appendChild(li);\n",
       "\n",
       "    const fileDataPromise = new Promise((resolve) => {\n",
       "      const reader = new FileReader();\n",
       "      reader.onload = (e) => {\n",
       "        resolve(e.target.result);\n",
       "      };\n",
       "      reader.readAsArrayBuffer(file);\n",
       "    });\n",
       "    // Wait for the data to be ready.\n",
       "    let fileData = yield {\n",
       "      promise: fileDataPromise,\n",
       "      response: {\n",
       "        action: 'continue',\n",
       "      }\n",
       "    };\n",
       "\n",
       "    // Use a chunked sending to avoid message size limits. See b/62115660.\n",
       "    let position = 0;\n",
       "    do {\n",
       "      const length = Math.min(fileData.byteLength - position, MAX_PAYLOAD_SIZE);\n",
       "      const chunk = new Uint8Array(fileData, position, length);\n",
       "      position += length;\n",
       "\n",
       "      const base64 = btoa(String.fromCharCode.apply(null, chunk));\n",
       "      yield {\n",
       "        response: {\n",
       "          action: 'append',\n",
       "          file: file.name,\n",
       "          data: base64,\n",
       "        },\n",
       "      };\n",
       "\n",
       "      let percentDone = fileData.byteLength === 0 ?\n",
       "          100 :\n",
       "          Math.round((position / fileData.byteLength) * 100);\n",
       "      percent.textContent = `${percentDone}% done`;\n",
       "\n",
       "    } while (position < fileData.byteLength);\n",
       "  }\n",
       "\n",
       "  // All done.\n",
       "  yield {\n",
       "    response: {\n",
       "      action: 'complete',\n",
       "    }\n",
       "  };\n",
       "}\n",
       "\n",
       "scope.google = scope.google || {};\n",
       "scope.google.colab = scope.google.colab || {};\n",
       "scope.google.colab._files = {\n",
       "  _uploadFiles,\n",
       "  _uploadFilesContinue,\n",
       "};\n",
       "})(self);\n",
       "</script> "
      ],
      "text/plain": [
       "<IPython.core.display.HTML object>"
      ]
     },
     "metadata": {},
     "output_type": "display_data"
    }
   ],
   "source": [
    "from google.colab import files\n",
    "uploaded = files.upload()"
   ]
  },
  {
   "cell_type": "code",
   "execution_count": 148,
   "metadata": {},
   "outputs": [],
   "source": [
    "import matplotlib.pyplot as plt\n",
    "import seaborn as sns"
   ]
  },
  {
   "cell_type": "code",
   "execution_count": 149,
   "metadata": {
    "id": "CMQ5kZB_GS7Z"
   },
   "outputs": [],
   "source": [
    "import io\n",
    "import pandas as pd\n",
    "import numpy as np\n",
    "\n",
    "data = np.genfromtxt('train.dat')\n",
    "data1 = np.genfromtxt('test.dat')"
   ]
  },
  {
   "cell_type": "code",
   "execution_count": 150,
   "metadata": {
    "id": "jzAkzTUIHIvv"
   },
   "outputs": [],
   "source": [
    "def binary_to_decimal(data, row):\n",
    "  binary1=''\n",
    "  binary2=''\n",
    "\n",
    "  for i in data[row][64:68]:\n",
    "    binary1 += str(int(i))\n",
    "\n",
    "  for j in data[row][68:72]:\n",
    "    binary2 += str(int(j))\n",
    "\n",
    "  p = int(binary1, 2)\n",
    "  q = int(binary2, 2)\n",
    "\n",
    "  return [p, q]"
   ]
  },
  {
   "cell_type": "code",
   "execution_count": 4,
   "metadata": {
    "id": "BfrwLaC_HMZ-"
   },
   "outputs": [],
   "source": [
    "train_data = []\n",
    "for row in range(60000):\n",
    "  challenge = np.append(np.append(data[row][0:64], binary_to_decimal(data, row)), data[row][-1])\n",
    "  train_data.append(challenge)"
   ]
  },
  {
   "cell_type": "code",
   "execution_count": 5,
   "metadata": {
    "id": "JD0gopnLHRzQ"
   },
   "outputs": [],
   "source": [
    "test_data = []\n",
    "for row in range(40000):\n",
    "  challenge = np.append(np.append(data1[row][0:64], binary_to_decimal(data1, row)), data1[row][-1])\n",
    "  test_data.append(challenge)"
   ]
  },
  {
   "cell_type": "code",
   "execution_count": 6,
   "metadata": {
    "id": "gGbdBPLDHT2A"
   },
   "outputs": [],
   "source": [
    "train_data = np.array(train_data)"
   ]
  },
  {
   "cell_type": "code",
   "execution_count": 7,
   "metadata": {
    "id": "8AOmKFQBHV0a"
   },
   "outputs": [],
   "source": [
    "test_data = np.array(test_data)"
   ]
  },
  {
   "cell_type": "code",
   "execution_count": 8,
   "metadata": {
    "id": "ARixA82jHXux"
   },
   "outputs": [],
   "source": [
    "def create_feature(X_train):\n",
    "  X = []\n",
    "  for challenge in X_train:\n",
    "    temp = []\n",
    "    for val in challenge:\n",
    "      temp.append(1-val)\n",
    "      temp.append(val)\n",
    "    # temp.append(1)\n",
    "    X.append(temp)\n",
    "  \n",
    "  X = np.array(X)\n",
    "  return X"
   ]
  },
  {
   "cell_type": "code",
   "execution_count": 133,
   "metadata": {},
   "outputs": [],
   "source": [
    "trial_data1 = [] # when select bit is (p, q),\n",
    "trial_data2 = [] # when select bit is (q, p). here p<q\n",
    "\n",
    "for challenge in train_data:\n",
    "    if (list(challenge[64:66]) == [1.0, 3.0]):\n",
    "        trial_data1.append(challenge)\n",
    "    if (list(challenge[64:66]) == [3.0, 1.0]):\n",
    "        trial_data2.append(challenge)\n",
    "\n",
    "trial_data1 = np.array(trial_data1)\n",
    "trial_data2 = np.array(trial_data2)"
   ]
  },
  {
   "cell_type": "code",
   "execution_count": 138,
   "metadata": {},
   "outputs": [
    {
     "data": {
      "text/plain": [
       "(0,)"
      ]
     },
     "execution_count": 138,
     "metadata": {},
     "output_type": "execute_result"
    }
   ],
   "source": [
    "np.shape(trial_data2)"
   ]
  },
  {
   "cell_type": "code",
   "execution_count": 135,
   "metadata": {},
   "outputs": [],
   "source": [
    "trial_data = []\n",
    "\n",
    "for challenge in train_data:\n",
    "    if (list(challenge[64:66]) == [1.0, 3.0]):\n",
    "        trial_data.append(challenge)\n",
    "    if (list(challenge[64:66]) == [3.0, 1.0]):\n",
    "        check_challenge = challenge\n",
    "        check_challenge[64:66] = [1.0, 3.0]\n",
    "        a = [list(item) for item in trial_data]\n",
    "        if list(check_challenge) not in a:\n",
    "            challenge[-1] = 1.0 - challenge[-1]\n",
    "            trial_data.append(challenge)\n",
    "\n",
    "trial_data = np.array(trial_data)"
   ]
  },
  {
   "cell_type": "code",
   "execution_count": 136,
   "metadata": {},
   "outputs": [
    {
     "data": {
      "text/plain": [
       "(257, 67)"
      ]
     },
     "execution_count": 136,
     "metadata": {},
     "output_type": "execute_result"
    }
   ],
   "source": [
    "np.shape(trial_data)"
   ]
  },
  {
   "cell_type": "code",
   "execution_count": 139,
   "metadata": {
    "id": "E-9LX8HJH7NT"
   },
   "outputs": [],
   "source": [
    "def fit(model, Z_train):\n",
    "  # for select bit p and q\n",
    "  for p in range(0, 15):\n",
    "    for q in range(p+1, 16):\n",
    "#       trial_data1 = [] # when select bit is (p, q),\n",
    "#       trial_data2 = [] # when select bit is (q, p). here p<q\n",
    "\n",
    "#       for challenge in Z_train:\n",
    "#         if (list(challenge[64:66]) == [float(p), float(q)]):\n",
    "#           trial_data1.append(challenge)\n",
    "#         if (list(challenge[64:66]) == [float(q), float(p)]):\n",
    "#           trial_data2.append(challenge)\n",
    "\n",
    "#       trial_data1 = np.array(trial_data1)\n",
    "#       trial_data2 = np.array(trial_data2)\n",
    "        trial_data = []\n",
    "\n",
    "        for challenge in train_data:\n",
    "            if (list(challenge[64:66]) == [float(p), float(q)]):\n",
    "                trial_data.append(challenge)\n",
    "            if (list(challenge[64:66]) == [float(q), float(p)]):\n",
    "                check_challenge = challenge\n",
    "                check_challenge[64:66] = [float(p), float(q)]\n",
    "                a = [list(item) for item in trial_data]\n",
    "                if list(check_challenge) not in a:\n",
    "                    challenge[-1] = 1.0 - challenge[-1]\n",
    "                    trial_data.append(challenge)\n",
    "\n",
    "        trial_data = np.array(trial_data)\n",
    "\n",
    "        trial_data = np.delete(trial_data1, [64, 65], axis=1)\n",
    "#         trial_data2 = np.delete(trial_data2, [64, 65], axis=1)\n",
    "#         trial_data2[:,-1] = 1.0-trial_data2[:,-1]\n",
    "\n",
    "        key = str(p)+'$'+str(q)\n",
    "\n",
    "        model[key].fit(create_feature(trial_data[:, :-1]), trial_data[:,-1])\n",
    "#       model[key].fit(create_feature(trial_data2[:, :-1]), trial_data2[:,-1])"
   ]
  },
  {
   "cell_type": "code",
   "execution_count": 140,
   "metadata": {
    "id": "35GcjrNYH8E6"
   },
   "outputs": [],
   "source": [
    "def predict(model, Z_test):\n",
    "    predicted_response = []\n",
    "\n",
    "    for challenge in Z_test[:, :-1]:\n",
    "        p = int(challenge[64])\n",
    "        q = int(challenge[65])\n",
    "\n",
    "        challenge = np.delete(challenge, [64, 65])\n",
    "\n",
    "        if(p<q):\n",
    "            key = str(p)+'$'+str(q)\n",
    "            predicted_response.append((model[key].predict(create_feature([challenge])))[0])\n",
    "        else:\n",
    "            key = str(q)+'$'+str(p)\n",
    "            predicted_response.append(1.0-(model[key].predict(create_feature([challenge])))[0])\n",
    "        #       predicted_response.append((model[key].predict(create_feature([challenge])))[0])\n",
    "\n",
    "\n",
    "    predicted_response = np.array(predicted_response)\n",
    "    return predicted_response"
   ]
  },
  {
   "cell_type": "code",
   "execution_count": 141,
   "metadata": {
    "id": "ll_rzWyvIE6J"
   },
   "outputs": [],
   "source": [
    "from sklearn.svm import LinearSVC\n",
    "model1 = {}\n",
    "\n",
    "for p in range(0, 15):\n",
    "    for q in range(p+1, 16):\n",
    "        key = str(p)+'$'+str(q)\n",
    "        model1[key] = LinearSVC(loss = 'hinge', C=100, max_iter=10000)"
   ]
  },
  {
   "cell_type": "code",
   "execution_count": 142,
   "metadata": {
    "colab": {
     "base_uri": "https://localhost:8080/"
    },
    "id": "hTEIuf6jIJxY",
    "outputId": "c2f11a94-80b5-4b35-b496-19a89c6df3a9",
    "scrolled": true
   },
   "outputs": [],
   "source": [
    "fit(model1, train_data)"
   ]
  },
  {
   "cell_type": "code",
   "execution_count": 143,
   "metadata": {},
   "outputs": [
    {
     "name": "stdout",
     "output_type": "stream",
     "text": [
      "[1. 1. 0. ... 1. 0. 1.]\n"
     ]
    }
   ],
   "source": [
    "training_response = train_data[:, -1]\n",
    "print(training_response)"
   ]
  },
  {
   "cell_type": "code",
   "execution_count": 144,
   "metadata": {},
   "outputs": [],
   "source": [
    "predicted_training_response = predict(model1, train_data)"
   ]
  },
  {
   "cell_type": "code",
   "execution_count": 145,
   "metadata": {},
   "outputs": [
    {
     "name": "stdout",
     "output_type": "stream",
     "text": [
      "[0. 0. 1. ... 1. 0. 1.]\n"
     ]
    }
   ],
   "source": [
    "print(predicted_training_response)"
   ]
  },
  {
   "cell_type": "code",
   "execution_count": 146,
   "metadata": {},
   "outputs": [
    {
     "name": "stdout",
     "output_type": "stream",
     "text": [
      "0.4837666666666667\n"
     ]
    }
   ],
   "source": [
    "print(np.average(predicted_training_response == training_response))"
   ]
  },
  {
   "cell_type": "code",
   "execution_count": 13,
   "metadata": {
    "colab": {
     "base_uri": "https://localhost:8080/"
    },
    "id": "IzRgKtKTIbUv",
    "outputId": "55e596fe-b7cf-4174-fe5d-a356bf752eb6"
   },
   "outputs": [
    {
     "data": {
      "text/plain": [
       "array([0., 1., 0., ..., 1., 1., 1.])"
      ]
     },
     "execution_count": 13,
     "metadata": {},
     "output_type": "execute_result"
    }
   ],
   "source": [
    "actual_response = test_data[:, -1]\n",
    "actual_response"
   ]
  },
  {
   "cell_type": "code",
   "execution_count": 14,
   "metadata": {
    "colab": {
     "base_uri": "https://localhost:8080/"
    },
    "id": "ykvodeYoIcBW",
    "outputId": "8e103029-f8eb-499d-e1f8-a4e2ceafe60d"
   },
   "outputs": [
    {
     "data": {
      "text/plain": [
       "array([0., 1., 0., ..., 1., 1., 1.])"
      ]
     },
     "execution_count": 14,
     "metadata": {},
     "output_type": "execute_result"
    }
   ],
   "source": [
    "predicted_response1 = predict(model1, test_data)\n",
    "predicted_response1"
   ]
  },
  {
   "cell_type": "code",
   "execution_count": 15,
   "metadata": {
    "colab": {
     "base_uri": "https://localhost:8080/"
    },
    "id": "hzyXnPTUIeBE",
    "outputId": "b95bcf35-b231-4d16-89a5-e8d95d8ddaee"
   },
   "outputs": [
    {
     "name": "stdout",
     "output_type": "stream",
     "text": [
      "0.901675\n"
     ]
    }
   ],
   "source": [
    "print(np.average(predicted_response1 == actual_response))"
   ]
  },
  {
   "cell_type": "code",
   "execution_count": 36,
   "metadata": {
    "id": "AlfRE5QLI5qA"
   },
   "outputs": [],
   "source": [
    "from sklearn.linear_model import LogisticRegression\n",
    "model2 = {}\n",
    "\n",
    "for p in range(0, 15):\n",
    "  for q in range(p+1, 16):\n",
    "    key = str(p)+'$'+str(q)\n",
    "    model2[key] = LogisticRegression(C=100, max_iter=10000)"
   ]
  },
  {
   "cell_type": "code",
   "execution_count": 37,
   "metadata": {
    "id": "u41hh6tyKDnO"
   },
   "outputs": [],
   "source": [
    "fit(model2, train_data)"
   ]
  },
  {
   "cell_type": "code",
   "execution_count": 38,
   "metadata": {
    "colab": {
     "base_uri": "https://localhost:8080/"
    },
    "id": "ZRsjxxJWKNJU",
    "outputId": "e4b4e639-f032-4633-e630-8a01e5068061"
   },
   "outputs": [
    {
     "data": {
      "text/plain": [
       "array([0., 1., 0., ..., 1., 1., 1.])"
      ]
     },
     "execution_count": 38,
     "metadata": {},
     "output_type": "execute_result"
    }
   ],
   "source": [
    "predicted_response2 = predict(model2, test_data)\n",
    "predicted_response2"
   ]
  },
  {
   "cell_type": "code",
   "execution_count": 39,
   "metadata": {
    "colab": {
     "base_uri": "https://localhost:8080/"
    },
    "id": "XzkuRfWiKX_F",
    "outputId": "576adb4d-1559-42fd-e734-174f6c7b124f"
   },
   "outputs": [
    {
     "name": "stdout",
     "output_type": "stream",
     "text": [
      "0.9104\n"
     ]
    }
   ],
   "source": [
    "print(np.average(predicted_response2 == actual_response))"
   ]
  },
  {
   "cell_type": "code",
   "execution_count": null,
   "metadata": {
    "id": "I4eBG8NHKfqK"
   },
   "outputs": [],
   "source": [
    "from sklearn.svm import SVC\n",
    "model3 = {}\n",
    "\n",
    "for p in range(0, 15):\n",
    "  for q in range(p+1, 16):\n",
    "    key = str(p)+'$'+str(q)\n",
    "    model3[key] = SVC(C=0.1, max_iter=10000)"
   ]
  },
  {
   "cell_type": "code",
   "execution_count": null,
   "metadata": {
    "id": "xOgroniIK4y7"
   },
   "outputs": [],
   "source": [
    "fit(model3, train_data)"
   ]
  },
  {
   "cell_type": "code",
   "execution_count": null,
   "metadata": {
    "colab": {
     "base_uri": "https://localhost:8080/"
    },
    "id": "o-mYZ8QDK8Nv",
    "outputId": "c6e1c2a0-bb55-45ea-cf9d-59a4114a7d23"
   },
   "outputs": [
    {
     "data": {
      "text/plain": [
       "array([1., 0., 0., ..., 0., 1., 1.])"
      ]
     },
     "execution_count": 49,
     "metadata": {},
     "output_type": "execute_result"
    }
   ],
   "source": [
    "predicted_response3 = predict(model3, test_data)\n",
    "predicted_response3"
   ]
  },
  {
   "cell_type": "code",
   "execution_count": null,
   "metadata": {
    "colab": {
     "base_uri": "https://localhost:8080/"
    },
    "id": "9eI7bS0oLEFf",
    "outputId": "97cad3da-f9cc-4484-ad9a-6f1034aa93d4"
   },
   "outputs": [
    {
     "name": "stdout",
     "output_type": "stream",
     "text": [
      "0.792275\n"
     ]
    }
   ],
   "source": [
    "print(np.average(predicted_response3 == actual_response))"
   ]
  },
  {
   "cell_type": "code",
   "execution_count": 16,
   "metadata": {
    "id": "uBVVJfxnbVn9"
   },
   "outputs": [],
   "source": [
    "from sklearn.neighbors import KNeighborsClassifier\n",
    "\n",
    "model4 = {}\n",
    "\n",
    "for p in range(0, 15):\n",
    "  for q in range(p+1, 16):\n",
    "    key = str(p)+'$'+str(q)\n",
    "    model4[key] = KNeighborsClassifier(n_neighbors=3)"
   ]
  },
  {
   "cell_type": "code",
   "execution_count": 18,
   "metadata": {},
   "outputs": [],
   "source": [
    "fit(model4, test_data)"
   ]
  },
  {
   "cell_type": "code",
   "execution_count": 40,
   "metadata": {
    "scrolled": true
   },
   "outputs": [],
   "source": [
    "# predicted_response4 = predict(model4, test_data)\n",
    "# predicted_response4\n",
    "\n",
    "#takes too long"
   ]
  },
  {
   "cell_type": "code",
   "execution_count": null,
   "metadata": {},
   "outputs": [],
   "source": [
    "print(np.average(predicted_response4 == actual_response))"
   ]
  },
  {
   "cell_type": "code",
   "execution_count": null,
   "metadata": {},
   "outputs": [],
   "source": []
  }
 ],
 "metadata": {
  "colab": {
   "provenance": []
  },
  "kernelspec": {
   "display_name": "Python 3 (ipykernel)",
   "language": "python",
   "name": "python3"
  },
  "language_info": {
   "codemirror_mode": {
    "name": "ipython",
    "version": 3
   },
   "file_extension": ".py",
   "mimetype": "text/x-python",
   "name": "python",
   "nbconvert_exporter": "python",
   "pygments_lexer": "ipython3",
   "version": "3.9.12"
  }
 },
 "nbformat": 4,
 "nbformat_minor": 1
}
