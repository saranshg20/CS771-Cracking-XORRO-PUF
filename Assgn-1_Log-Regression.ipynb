{
 "cells": [
  {
   "cell_type": "code",
   "execution_count": 2,
   "id": "6e6c773d",
   "metadata": {},
   "outputs": [],
   "source": [
    "import matplotlib.pyplot as plt\n",
    "import seaborn as sns\n",
    "import pandas as pd\n",
    "import numpy as np\n",
    "from sklearn.metrics import classification_report, accuracy_score, confusion_matrix\n",
    "from sklearn.metrics import precision_recall_curve, average_precision_score, roc_auc_score, roc_curve\n",
    "from sklearn.svm import SVC\n",
    "from sklearn.linear_model import LogisticRegression"
   ]
  },
  {
   "cell_type": "code",
   "execution_count": 9,
   "id": "234dcccd",
   "metadata": {},
   "outputs": [],
   "source": [
    "Z_trn = np.loadtxt( \"train.dat\" )\n",
    "Z_tst = np.loadtxt( \"test.dat\" )"
   ]
  },
  {
   "cell_type": "code",
   "execution_count": 3,
   "id": "8dede230",
   "metadata": {},
   "outputs": [],
   "source": [
    "def binary_to_decimal(data, row):\n",
    "    binary1 = ''\n",
    "    binary2 = ''\n",
    "\n",
    "    for i in data[row][64:68]:\n",
    "        binary1 += str(int(i))\n",
    "\n",
    "    for j in data[row][68:72]:\n",
    "        binary2 += str(int(j))\n",
    "\n",
    "    p = int(binary1, 2)\n",
    "    q = int(binary2, 2)\n",
    "\n",
    "    return [p, q]"
   ]
  },
  {
   "cell_type": "code",
   "execution_count": 4,
   "id": "583efa01",
   "metadata": {},
   "outputs": [],
   "source": [
    "def create_feature(data):\n",
    "    for challenge in data:\n",
    "        np.append(challenge, 1.0)\n",
    "    return data"
   ]
  },
  {
   "cell_type": "code",
   "execution_count": 5,
   "id": "83c18309",
   "metadata": {},
   "outputs": [],
   "source": [
    "def transform_train_data(data):\n",
    "\tn = np.shape(data)[0]\n",
    "\ttrans_data = []\n",
    "\tfor row in range(n):\n",
    "\t\tchallenge = np.append(np.append(data[row][0:64], binary_to_decimal(data, row)), data[row][-1])\n",
    "\t\ttrans_data.append(challenge)\n",
    "\ttrans_data = np.array(trans_data)\n",
    "\treturn trans_data"
   ]
  },
  {
   "cell_type": "code",
   "execution_count": 6,
   "id": "215a3f14",
   "metadata": {},
   "outputs": [],
   "source": [
    "def transform_test_data(data):\n",
    "\tn = np.shape(data)[0]\n",
    "\ttrans_data = []\n",
    "\tfor row in range(n):\n",
    "\t\tchallenge = np.append(data[row][0:64], binary_to_decimal(data, row))\n",
    "\t\ttrans_data.append(challenge)\n",
    "\ttrans_data = np.array(trans_data)\n",
    "\treturn trans_data"
   ]
  },
  {
   "cell_type": "code",
   "execution_count": 7,
   "id": "f0e2ece8",
   "metadata": {},
   "outputs": [],
   "source": [
    "def my_fit( Z_train ):\n",
    "\tmodel = {}\n",
    "\tZ_train = transform_train_data(Z_train)\n",
    "\n",
    "\ttrain_data = {}\n",
    "\n",
    "\tfor challenge in Z_train:\n",
    "\t\tp = int(challenge[64])\n",
    "\t\tq = int(challenge[65])\n",
    "\t\tkey = None\n",
    "\t\tif p < q:\n",
    "\t\t\tkey = str(p) + '$' + str(q)\n",
    "\t\telse:\n",
    "\t\t\tkey = str(q) + '$' + str(p)\n",
    "\n",
    "\t\tif train_data.get(key) is None:\n",
    "\t\t\ttrain_data[key] = np.empty((0, 65), float)\n",
    "\n",
    "\t\tchallenge = np.delete(challenge, [64, 65])\n",
    "\t\tif p < q:\n",
    "\t\t\ttrain_data[key] = np.append(train_data[key], np.array([challenge]), axis=0)\n",
    "\t\telse:\n",
    "\t\t\tchallenge[-1] = 1.0 - challenge[-1]\n",
    "\t\t\ttrain_data[key] = np.append(train_data[key], np.array([challenge]), axis=0)\n",
    "\n",
    "\tfor key, data in train_data.items():\n",
    "\t\tif model.get(key) is None:\n",
    "\t\t\tmodel[key] = LogisticRegression(C=100, max_iter=500)\n",
    "\t\tX = create_feature(data[:, :-1])\n",
    "\t\ty = data[:, -1]\n",
    "\n",
    "\t\tmodel[key].fit(X, y)\n",
    "\n",
    "\treturn model"
   ]
  },
  {
   "cell_type": "code",
   "execution_count": 8,
   "id": "7e4201d4",
   "metadata": {},
   "outputs": [],
   "source": [
    "def my_predict(X_tst, model):\n",
    "################################\n",
    "#  Non Editable Region Ending  #\n",
    "################################\n",
    "\tX_tst = transform_test_data(X_tst)\n",
    "\tpredicted_response = []\n",
    "\n",
    "\tfor challenge in X_tst:\n",
    "\t\tp = int(challenge[64])\n",
    "\t\tq = int(challenge[65])\n",
    "\n",
    "\t\tchallenge = np.delete(challenge, [64, 65])\n",
    "\n",
    "\t\tif (p < q):\n",
    "\t\t\tkey = str(p) + '$' + str(q)\n",
    "\t\t\tpredicted_response.append((model[key].predict(create_feature([challenge])))[0])\n",
    "\t\telse:\n",
    "\t\t\tkey = str(q) + '$' + str(p)\n",
    "\t\t\tpredicted_response.append(1.0 - (model[key].predict(create_feature([challenge])))[0])\n",
    "\n",
    "\tpredicted_response = np.array(predicted_response)\n",
    "\treturn predicted_response"
   ]
  },
  {
   "cell_type": "code",
   "execution_count": 10,
   "id": "50d41498",
   "metadata": {},
   "outputs": [],
   "source": [
    "model = my_fit(Z_trn)"
   ]
  },
  {
   "cell_type": "code",
   "execution_count": null,
   "id": "7c5b955c",
   "metadata": {},
   "outputs": [],
   "source": []
  }
 ],
 "metadata": {
  "kernelspec": {
   "display_name": "gpu2",
   "language": "python",
   "name": "gpu2"
  },
  "language_info": {
   "codemirror_mode": {
    "name": "ipython",
    "version": 3
   },
   "file_extension": ".py",
   "mimetype": "text/x-python",
   "name": "python",
   "nbconvert_exporter": "python",
   "pygments_lexer": "ipython3",
   "version": "3.9.12"
  }
 },
 "nbformat": 4,
 "nbformat_minor": 5
}
